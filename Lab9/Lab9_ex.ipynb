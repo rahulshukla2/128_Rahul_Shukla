{
  "nbformat": 4,
  "nbformat_minor": 0,
  "metadata": {
    "colab": {
      "name": "Lab9_ex.ipynb",
      "provenance": []
    },
    "kernelspec": {
      "name": "python3",
      "display_name": "Python 3"
    },
    "language_info": {
      "name": "python"
    }
  },
  "cells": [
    {
      "cell_type": "code",
      "metadata": {
        "id": "gXuK4o4wZkjJ"
      },
      "source": [
        "import sys, os\n",
        "import matplotlib.pyplot as plt\n",
        "from sklearn import svm\n",
        "from sklearn.model_selection import train_test_split\n",
        "import numpy as np\n",
        "import tensorflow as tf"
      ],
      "execution_count": null,
      "outputs": []
    },
    {
      "cell_type": "code",
      "metadata": {
        "id": "CXRn4DDQeiof"
      },
      "source": [
        "from tensorflow.keras.datasets import mnist\n",
        "\n",
        "(x_train, y_train), (x_test, y_test) = mnist.load_data()\n",
        "\n",
        "x_train, x_test = np.array(x_train, np.float32), np.array(x_test, np.float32)\n",
        "\n",
        "# Flatten images to 1-D vector of 784 features (28*28).\n",
        "num_features=784\n",
        "x_train, x_test = x_train.reshape([-1, num_features]), x_test.reshape([-1, num_features])\n",
        "\n",
        "# Normalize images value from [0, 255] to [0, 1].\n",
        "x_train, x_test = x_train / 255., x_test / 255.\n",
        "\n",
        "\n",
        "#plt.scatter(x_train[:,0],x_train[:,1],x_train[:,2].x_train[:,3].x_train[:,4],x_train[:,5],x_train[:,6]),x_train[:,7],x_train[:,8],x_train[:,9],c=y_train, s=50, cmap=\"spring\")\n",
        "#plt.show()\n"
      ],
      "execution_count": 4,
      "outputs": []
    },
    {
      "cell_type": "code",
      "metadata": {
        "colab": {
          "base_uri": "https://localhost:8080/"
        },
        "id": "O8VeaIdFjrdt",
        "outputId": "65d14c7c-157e-40c4-dcb0-4f848a18aebf"
      },
      "source": [
        "from sklearn import svm\n",
        "clf_linear = svm.SVC(kernel='linear')\n",
        "clf_poly = svm.SVC(kernel='poly')\n",
        "clf_RBF=svm.SVC(kernel='rbf')\n",
        "\n",
        "clf_linear=clf_linear.fit(x_train,y_train)\n",
        "clf_poly=clf_poly.fit(x_train,y_train)\n",
        "clf_RBF=clf_RBF.fit(x_train,y_train)\n",
        "\n",
        "#Predict the response for test dataset\n",
        "y_pred = clf_linear.predict(x_test)###################\n",
        "print(y_pred)\n",
        "\n"
      ],
      "execution_count": 6,
      "outputs": [
        {
          "output_type": "stream",
          "name": "stdout",
          "text": [
            "[7 2 1 ... 4 5 6]\n"
          ]
        }
      ]
    },
    {
      "cell_type": "code",
      "metadata": {
        "id": "laMCtmIFuBjE"
      },
      "source": [
        "y_pred_poly=clf_poly.predict(x_test)\n",
        "y_pred_RBF=clf_RBF.predict(x_test)\n"
      ],
      "execution_count": 7,
      "outputs": []
    },
    {
      "cell_type": "code",
      "metadata": {
        "colab": {
          "base_uri": "https://localhost:8080/"
        },
        "id": "9hZLwc2gubXP",
        "outputId": "4f7ffcff-9948-400e-80ef-35f32645aefb"
      },
      "source": [
        "from sklearn import metrics\n",
        "# Model Accuracy: how often is the classifier correct?\n",
        "print(\"Linear Kernel Accuracy:\",metrics.accuracy_score(y_test, y_pred))\n",
        "print(\"Poly Kernel Accuracy:\",metrics.accuracy_score(y_test, y_pred_poly))\n",
        "print(\"RBF Kernel Accuracy:\",metrics.accuracy_score(y_test, y_pred_RBF))"
      ],
      "execution_count": 12,
      "outputs": [
        {
          "output_type": "stream",
          "name": "stdout",
          "text": [
            "Linear Kernel Accuracy: 0.9404\n",
            "Poly Kernel Accuracy: 0.9771\n",
            "RBF Kernel Accuracy: 0.9792\n"
          ]
        }
      ]
    },
    {
      "cell_type": "code",
      "metadata": {
        "colab": {
          "base_uri": "https://localhost:8080/"
        },
        "id": "ZZmkM9Wtu-g1",
        "outputId": "ecdb84d6-e5ba-4aa1-bcc8-a0fc3ef83069"
      },
      "source": [
        "# Model Precision: what percentage of positive tuples are labeled as such?\n",
        "print(\"Linear Kernel Precision:\",metrics.precision_score(y_test, y_pred, average='weighted'))\n",
        "print(\"Poly Kernel Precision:\",metrics.precision_score(y_test, y_pred_poly, average='weighted'))\n",
        "print(\"RBF Kernel Precision:\",metrics.precision_score(y_test, y_pred_RBF, average='weighted'))"
      ],
      "execution_count": 22,
      "outputs": [
        {
          "output_type": "stream",
          "name": "stdout",
          "text": [
            "Linear Kernel Precision: 0.9404744228503641\n",
            "Poly Kernel Precision: 0.9771114199169968\n",
            "RBF Kernel Precision: 0.9792006017788697\n"
          ]
        }
      ]
    },
    {
      "cell_type": "code",
      "metadata": {
        "colab": {
          "base_uri": "https://localhost:8080/"
        },
        "id": "breReD_KvXL2",
        "outputId": "f8cda3b3-e2f8-43cf-f048-15cf13700e23"
      },
      "source": [
        "# Model Recall: what percentage of positive tuples are labelled as such?\n",
        "print(\"Linear Kernel Recall:\",metrics.recall_score(y_test, y_pred,average='weighted'))\n",
        "print(\"Poly Kernel Recall:\",metrics.recall_score(y_test, y_pred_poly,average='weighted'))\n",
        "print(\"RBF Kernel Recall:\",metrics.recall_score(y_test, y_pred_RBF,average='weighted'))"
      ],
      "execution_count": 23,
      "outputs": [
        {
          "output_type": "stream",
          "name": "stdout",
          "text": [
            "Linear Kernel Recall: 0.9404\n",
            "Poly Kernel Recall: 0.9771\n",
            "RBF Kernel Recall: 0.9792\n"
          ]
        }
      ]
    }
  ]
}