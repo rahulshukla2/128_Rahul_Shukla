{
  "nbformat": 4,
  "nbformat_minor": 0,
  "metadata": {
    "colab": {
      "name": "Lab7_ex1.ipynb",
      "provenance": []
    },
    "kernelspec": {
      "name": "python3",
      "display_name": "Python 3"
    },
    "language_info": {
      "name": "python"
    }
  },
  "cells": [
    {
      "cell_type": "code",
      "metadata": {
        "id": "eTp-dbf03xPW"
      },
      "source": [
        "import nltk\n",
        "from nltk.corpus import twitter_samples\n",
        "import pandas as pd\n",
        "import tensorflow as tf"
      ],
      "execution_count": 1,
      "outputs": []
    },
    {
      "cell_type": "code",
      "metadata": {
        "colab": {
          "base_uri": "https://localhost:8080/"
        },
        "id": "oacKl31W35dY",
        "outputId": "49cb5105-9309-4616-a4ce-0bf99c896860"
      },
      "source": [
        "nltk.download('twitter_samples')\n",
        "nltk.download('stopwords')"
      ],
      "execution_count": 2,
      "outputs": [
        {
          "output_type": "stream",
          "name": "stdout",
          "text": [
            "[nltk_data] Downloading package twitter_samples to /root/nltk_data...\n",
            "[nltk_data]   Unzipping corpora/twitter_samples.zip.\n",
            "[nltk_data] Downloading package stopwords to /root/nltk_data...\n",
            "[nltk_data]   Unzipping corpora/stopwords.zip.\n"
          ]
        },
        {
          "output_type": "execute_result",
          "data": {
            "text/plain": [
              "True"
            ]
          },
          "metadata": {},
          "execution_count": 2
        }
      ]
    },
    {
      "cell_type": "code",
      "metadata": {
        "id": "UErUlEjQ3_iO"
      },
      "source": [
        "import re\n",
        "import string\n",
        "import numpy as np\n",
        "\n",
        "from nltk.corpus import stopwords\n",
        "from nltk.stem import PorterStemmer\n",
        "from nltk.tokenize import TweetTokenizer"
      ],
      "execution_count": 3,
      "outputs": []
    },
    {
      "cell_type": "code",
      "metadata": {
        "id": "QQ61Njir4AoZ"
      },
      "source": [
        "#process_tweet(): cleans the text, tokenizes it into separate words, removes stopwords, and converts words to stems.\n",
        "def process_tweet(tweet):\n",
        "    \"\"\"Process tweet function.\n",
        "    Input:\n",
        "        tweet: a string containing a tweet\n",
        "    Output:\n",
        "        tweets_clean: a list of words containing the processed tweet\n",
        "\n",
        "    \"\"\"\n",
        "    stemmer = PorterStemmer()\n",
        "    stopwords_english = stopwords.words('english')\n",
        "\n",
        "    # remove stock market tickers like $GE\n",
        "    tweet = re.sub(r'\\$\\w*', '', tweet)\n",
        "    # remove old style retweet text \"RT\"\n",
        "    tweet = re.sub(r'^RT[\\s]+', '', tweet)\n",
        "    # remove hyperlinks\n",
        "    tweet = re.sub(r'https?:\\/\\/.*[\\r\\n]*', '', tweet)\n",
        "    # remove hashtags\n",
        "    # only removing the hash # sign from the word\n",
        "    tweet = re.sub(r'#', '', tweet)\n",
        "    # tokenize tweets\n",
        "\n",
        "\n",
        "    tokenizer = TweetTokenizer(preserve_case=False, strip_handles=True,\n",
        "                               reduce_len=True)\n",
        "    tweet_tokens = tokenizer.tokenize(tweet)\n",
        "\n",
        "    tweets_clean = []\n",
        "    for word in tweet_tokens:\n",
        "      \n",
        "        if (word not in stopwords_english and   word not in string.punctuation):  \n",
        "            stem_word = stemmer.stem(word)  # stemming word\n",
        "            tweets_clean.append(stem_word)\n",
        "\n",
        "            \n",
        "            #############################################################\n",
        "            # 1 remove stopwords\n",
        "            # 2 remove punctuation\n",
        "            # 3 stemming word\n",
        "            # 4 Add it to tweets_clean\n",
        "\n",
        "    return tweets_clean"
      ],
      "execution_count": 4,
      "outputs": []
    },
    {
      "cell_type": "code",
      "metadata": {
        "id": "NVTt_OaY4ZHt"
      },
      "source": [
        "\n",
        "#build_freqs counts how often a word in the 'corpus' (the entire set of tweets) was associated with\n",
        "# a positive label '1'         or\n",
        "# a negative label '0',\n",
        "\n",
        "#then builds the freqs dictionary, where each key is a (word,label) tuple,\n",
        "\n",
        "#and the value is the count of its frequency within the corpus of tweets.\n",
        "\n",
        "def build_freqs(tweets, ys):\n",
        "    \"\"\"Build frequencies.\n",
        "    Input:\n",
        "        tweets: a list of tweets\n",
        "        ys: an m x 1 array with the sentiment label of each tweet\n",
        "            (either 0 or 1)\n",
        "    Output:\n",
        "        freqs: a dictionary mapping each (word, sentiment) pair to its\n",
        "        frequency\n",
        "    \"\"\"\n",
        "    # Convert np array to list since zip needs an iterable.\n",
        "    # The squeeze is necessary or the list ends up with one element.\n",
        "    # Also note that this is just a NOP if ys is already a list.\n",
        "    yslist = np.squeeze(ys).tolist()\n",
        "\n",
        "    # Start with an empty dictionary and populate it by looping over all tweets\n",
        "    # and over all processed words in each tweet.\n",
        "    freqs = {}\n",
        "\n",
        "    for y, tweet in zip(yslist, tweets):\n",
        "        for word in process_tweet(tweet):\n",
        "            pair = (word, y)\n",
        "\n",
        "            #############################################################\n",
        "            #Update the count of pair if present, set it to 1 otherwise\n",
        "            if pair in freqs:\n",
        "                freqs[pair] += 1\n",
        "            else:\n",
        "                freqs[pair] = 1\n",
        "\n",
        "    return freqs"
      ],
      "execution_count": 5,
      "outputs": []
    },
    {
      "cell_type": "code",
      "metadata": {
        "id": "CmuPmOLQ4kZI"
      },
      "source": [
        "# select the set of positive and negative tweets\n",
        "all_positive_tweets = twitter_samples.strings('positive_tweets.json')\n",
        "all_negative_tweets = twitter_samples.strings('negative_tweets.json')"
      ],
      "execution_count": 6,
      "outputs": []
    },
    {
      "cell_type": "code",
      "metadata": {
        "id": "ae30z2FL4pZT"
      },
      "source": [
        "# split the data into two pieces, one for training and one for testing\n",
        "#############################################################\n",
        "test_pos = all_positive_tweets[4000:]\n",
        "train_pos = all_positive_tweets[:4000]\n",
        "test_neg = all_negative_tweets[4000:]\n",
        "train_neg = all_negative_tweets[:4000]\n",
        "\n",
        "train_x = train_pos + train_neg \n",
        "test_x = test_pos + test_neg"
      ],
      "execution_count": 7,
      "outputs": []
    },
    {
      "cell_type": "code",
      "metadata": {
        "id": "hkiVSGaA44Zl"
      },
      "source": [
        "# combine positive and negative labels\n",
        "train_y = np.append(np.ones((len(train_pos), 1)), np.zeros((len(train_neg), 1)), axis=0)\n",
        "test_y = np.append(np.ones((len(test_pos), 1)), np.zeros((len(test_neg), 1)), axis=0)"
      ],
      "execution_count": 8,
      "outputs": []
    },
    {
      "cell_type": "code",
      "metadata": {
        "colab": {
          "base_uri": "https://localhost:8080/"
        },
        "id": "eCas7DOl4-W8",
        "outputId": "9d825fd3-a2bf-41eb-9eef-22195de65b00"
      },
      "source": [
        "# create frequency dictionary\n",
        "#############################################################\n",
        "freqs = build_freqs(train_x, train_y)\n",
        "\n",
        "# check the output\n",
        "print(\"type(freqs) = \" + str(type(freqs)))\n",
        "print(\"len(freqs) = \" + str(len(freqs.keys())))"
      ],
      "execution_count": 9,
      "outputs": [
        {
          "output_type": "stream",
          "name": "stdout",
          "text": [
            "type(freqs) = <class 'dict'>\n",
            "len(freqs) = 11346\n"
          ]
        }
      ]
    },
    {
      "cell_type": "code",
      "metadata": {
        "colab": {
          "base_uri": "https://localhost:8080/"
        },
        "id": "whNjib-E5IK4",
        "outputId": "e354754b-04d3-4327-fdc2-8c35d66e2f3a"
      },
      "source": [
        "# Example\n",
        "print('This is an example of a positive tweet: \\n', train_x[0])\n",
        "print('\\nThis is an example of the processed version of the tweet: \\n', process_tweet(train_x[0]))"
      ],
      "execution_count": 10,
      "outputs": [
        {
          "output_type": "stream",
          "name": "stdout",
          "text": [
            "This is an example of a positive tweet: \n",
            " #FollowFriday @France_Inte @PKuchly57 @Milipol_Paris for being top engaged members in my community this week :)\n",
            "\n",
            "This is an example of the processed version of the tweet: \n",
            " ['followfriday', 'top', 'engag', 'member', 'commun', 'week', ':)']\n"
          ]
        }
      ]
    },
    {
      "cell_type": "code",
      "metadata": {
        "id": "TQ3zY6K85T0t"
      },
      "source": [
        "\n",
        "def extract_features(tweet, freqs):\n",
        "    '''\n",
        "    Input:\n",
        "        tweet: a list of words for one tweet\n",
        "        freqs: a dictionary corresponding to the frequencies of each tuple (word, label)\n",
        "    Output:\n",
        "        x: a feature vector of dimension (1,3)\n",
        "    '''\n",
        "    # tokenizes, stems, and removes stopwords\n",
        "    #############################################################\n",
        "    output = []\n",
        "    for word_l in tweet:\n",
        "        word_l = process_tweet(word_l)\n",
        "\n",
        "        # 3 elements in the form of a 1 x 3 vector\n",
        "        x = np.zeros((1, 3))\n",
        "\n",
        "        #bias term is set to 1\n",
        "        x[0,0] = 1\n",
        "\n",
        "        # loop through each word in the list of words\n",
        "        for word in word_l:\n",
        "\n",
        "            # increment the word count for the positive label 1\n",
        "            x[0,1] += freqs.get((word, 1.0),0)\n",
        "\n",
        "            # increment the word count for the negative label 0\n",
        "            x[0,2] += freqs.get((word, 0.0),0)\n",
        "\n",
        "\n",
        "        assert(x.shape == (1, 3))\n",
        "        output.append(x)\n",
        "    return output\n"
      ],
      "execution_count": 11,
      "outputs": []
    },
    {
      "cell_type": "code",
      "metadata": {
        "id": "U77HdzqS5dxs"
      },
      "source": [
        "model = tf.keras.models.Sequential([\n",
        "    tf.keras.layers.Dense(2, activation=tf.nn.softmax)\n",
        "])"
      ],
      "execution_count": 12,
      "outputs": []
    },
    {
      "cell_type": "code",
      "metadata": {
        "id": "VUP3_MVh52Qw"
      },
      "source": [
        "model.compile(optimizer='sgd',\n",
        "              loss='sparse_categorical_crossentropy',\n",
        "              metrics=['accuracy'])"
      ],
      "execution_count": 13,
      "outputs": []
    },
    {
      "cell_type": "code",
      "metadata": {
        "colab": {
          "base_uri": "https://localhost:8080/"
        },
        "id": "tpEfME_l5-x-",
        "outputId": "47c295d2-2269-48c2-eaa8-8738dbf6c3cb"
      },
      "source": [
        "model.fit(tf.convert_to_tensor(extract_features(train_x, freqs)), train_y, epochs=10)"
      ],
      "execution_count": 20,
      "outputs": [
        {
          "output_type": "stream",
          "name": "stdout",
          "text": [
            "Epoch 1/10\n",
            "250/250 [==============================] - 0s 1ms/step - loss: 45.3422 - accuracy: 0.9927\n",
            "Epoch 2/10\n",
            "250/250 [==============================] - 0s 1ms/step - loss: 38.8909 - accuracy: 0.9930\n",
            "Epoch 3/10\n",
            "250/250 [==============================] - 0s 1ms/step - loss: 32.1879 - accuracy: 0.9933\n",
            "Epoch 4/10\n",
            "250/250 [==============================] - 0s 1ms/step - loss: 25.7436 - accuracy: 0.9925\n",
            "Epoch 5/10\n",
            "250/250 [==============================] - 0s 1ms/step - loss: 18.7308 - accuracy: 0.9926\n",
            "Epoch 6/10\n",
            "250/250 [==============================] - 0s 1ms/step - loss: 13.0446 - accuracy: 0.9925\n",
            "Epoch 7/10\n",
            "250/250 [==============================] - 0s 1ms/step - loss: 6.5628 - accuracy: 0.9915\n",
            "Epoch 8/10\n",
            "250/250 [==============================] - 0s 1ms/step - loss: 57.6760 - accuracy: 0.9854\n",
            "Epoch 9/10\n",
            "250/250 [==============================] - 0s 1ms/step - loss: 46.8045 - accuracy: 0.9919\n",
            "Epoch 10/10\n",
            "250/250 [==============================] - 0s 1ms/step - loss: 40.3067 - accuracy: 0.9934\n"
          ]
        },
        {
          "output_type": "execute_result",
          "data": {
            "text/plain": [
              "<keras.callbacks.History at 0x7f6f3e117b50>"
            ]
          },
          "metadata": {},
          "execution_count": 20
        }
      ]
    },
    {
      "cell_type": "code",
      "metadata": {
        "colab": {
          "base_uri": "https://localhost:8080/"
        },
        "id": "TR_hgcM_6et7",
        "outputId": "d43305f4-93bf-4a86-93c6-b0136a9722cc"
      },
      "source": [
        "model.evaluate(tf.convert_to_tensor(extract_features(test_x, freqs)), test_y)"
      ],
      "execution_count": 21,
      "outputs": [
        {
          "output_type": "stream",
          "name": "stdout",
          "text": [
            "63/63 [==============================] - 0s 1ms/step - loss: 5.5888 - accuracy: 0.9945\n"
          ]
        },
        {
          "output_type": "execute_result",
          "data": {
            "text/plain": [
              "[5.588825225830078, 0.9944999814033508]"
            ]
          },
          "metadata": {},
          "execution_count": 21
        }
      ]
    }
  ]
}