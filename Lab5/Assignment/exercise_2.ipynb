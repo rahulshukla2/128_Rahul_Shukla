{
  "nbformat": 4,
  "nbformat_minor": 5,
  "metadata": {
    "kernelspec": {
      "display_name": "Python 3 (ipykernel)",
      "language": "python",
      "name": "python3"
    },
    "language_info": {
      "codemirror_mode": {
        "name": "ipython",
        "version": 3
      },
      "file_extension": ".py",
      "mimetype": "text/x-python",
      "name": "python",
      "nbconvert_exporter": "python",
      "pygments_lexer": "ipython3",
      "version": "3.9.7"
    },
    "colab": {
      "name": "exercise_2.ipynb",
      "provenance": []
    }
  },
  "cells": [
    {
      "cell_type": "code",
      "metadata": {
        "colab": {
          "base_uri": "https://localhost:8080/"
        },
        "id": "8a2f1561-1a7c-4eb5-b061-6fd2d90366ee",
        "outputId": "7fd468d4-3154-4c90-bea9-5f9235aab42e"
      },
      "source": [
        "import numpy as np\n",
        "import tensorflow.compat.v1 as tf\n",
        "tf.disable_v2_behavior()\n",
        "import matplotlib.pyplot as plt"
      ],
      "id": "8a2f1561-1a7c-4eb5-b061-6fd2d90366ee",
      "execution_count": 1,
      "outputs": [
        {
          "output_type": "stream",
          "name": "stdout",
          "text": [
            "WARNING:tensorflow:From /usr/local/lib/python3.7/dist-packages/tensorflow/python/compat/v2_compat.py:101: disable_resource_variables (from tensorflow.python.ops.variable_scope) is deprecated and will be removed in a future version.\n",
            "Instructions for updating:\n",
            "non-resource variables are not supported in the long term\n"
          ]
        }
      ]
    },
    {
      "cell_type": "code",
      "metadata": {
        "id": "0819b3db-1293-4d8a-81c0-d9a291ee7f4c"
      },
      "source": [
        "def generate_dataset():\n",
        " x_batch = np.linspace(0, 2, 100)\n",
        " y_batch = 1.5 * x_batch + np.random.randn(*x_batch.shape) * 0.2 + 0.5\n",
        " return x_batch, y_batch"
      ],
      "id": "0819b3db-1293-4d8a-81c0-d9a291ee7f4c",
      "execution_count": 2,
      "outputs": []
    },
    {
      "cell_type": "code",
      "metadata": {
        "id": "bdaae4f7-7144-4220-b970-2b6a4146d7cf"
      },
      "source": [
        "def linear_regression():\n",
        "  x = tf.placeholder(tf.float32, shape=(None, ), name='x')\n",
        "  y = tf.placeholder(tf.float32, shape=(None, ), name='y')\n",
        "\n",
        "  with tf.variable_scope('lreg') as scope:\n",
        "    w = tf.Variable(np.random.normal(), name='W')\n",
        "    b = tf.Variable(np.random.normal(), name='b')\n",
        "\t\t\n",
        "    y_pred = tf.add(tf.multiply(w, x), b)\n",
        "\n",
        "    loss = tf.reduce_mean(tf.square(y_pred - y))\n",
        "\n",
        "  return x, y, y_pred, loss"
      ],
      "id": "bdaae4f7-7144-4220-b970-2b6a4146d7cf",
      "execution_count": 3,
      "outputs": []
    },
    {
      "cell_type": "code",
      "metadata": {
        "id": "a16578dd-4c8d-4b69-bffb-c8fab9226987"
      },
      "source": [
        "def run():\n",
        "  x_batch, y_batch = generate_dataset()\n",
        "  x, y, y_pred, loss = linear_regression()\n",
        "\n",
        "  optimizer = tf.train.GradientDescentOptimizer(0.1)\n",
        "  train_op = optimizer.minimize(loss)\n",
        "\n",
        "  with tf.Session() as session:\n",
        "    session.run(tf.global_variables_initializer())\n",
        "    feed_dict = {x: x_batch, y: y_batch}\n",
        "\t\t\n",
        "    for i in range(30):\n",
        "      session.run(train_op, feed_dict)\n",
        "      print(i, \"loss:\", loss.eval(feed_dict))\n",
        "\n",
        "    print('Predicting')\n",
        "    y_pred_batch = session.run(y_pred, {x : x_batch})\n",
        "\n",
        "  plt.scatter(x_batch, y_batch)\n",
        "  plt.plot(x_batch, y_pred_batch, color='red')\n",
        "  plt.xlim(0, 2)\n",
        "  plt.ylim(0, 2)\n",
        "  plt.savefig('plot.png')"
      ],
      "id": "a16578dd-4c8d-4b69-bffb-c8fab9226987",
      "execution_count": 4,
      "outputs": []
    },
    {
      "cell_type": "code",
      "metadata": {
        "colab": {
          "base_uri": "https://localhost:8080/",
          "height": 790
        },
        "id": "cc2a9c23-252f-4dbb-b2b7-3a351684d3f2",
        "outputId": "0ad1973f-e28c-467e-e451-60238a38d384"
      },
      "source": [
        "run()"
      ],
      "id": "cc2a9c23-252f-4dbb-b2b7-3a351684d3f2",
      "execution_count": 5,
      "outputs": [
        {
          "output_type": "stream",
          "name": "stdout",
          "text": [
            "0 loss: 2.1767063\n",
            "1 loss: 0.7601801\n",
            "2 loss: 0.30831113\n",
            "3 loss: 0.16250591\n",
            "4 loss: 0.11390986\n",
            "5 loss: 0.09628424\n",
            "6 loss: 0.088615395\n",
            "7 loss: 0.08423141\n",
            "8 loss: 0.08100872\n",
            "9 loss: 0.07826665\n",
            "10 loss: 0.075782426\n",
            "11 loss: 0.073478945\n",
            "12 loss: 0.07132572\n",
            "13 loss: 0.069307335\n",
            "14 loss: 0.06741359\n",
            "15 loss: 0.06563623\n",
            "16 loss: 0.06396793\n",
            "17 loss: 0.062401928\n",
            "18 loss: 0.060931932\n",
            "19 loss: 0.059552055\n",
            "20 loss: 0.05825676\n",
            "21 loss: 0.057040878\n",
            "22 loss: 0.055899534\n",
            "23 loss: 0.054828156\n",
            "24 loss: 0.053822465\n",
            "25 loss: 0.052878413\n",
            "26 loss: 0.05199224\n",
            "27 loss: 0.05116039\n",
            "28 loss: 0.050379537\n",
            "29 loss: 0.04964655\n",
            "Predicting\n"
          ]
        },
        {
          "output_type": "display_data",
          "data": {
            "image/png": "[encoded data removed]",
            "text/plain": [
              "<Figure size 432x288 with 1 Axes>"
            ]
          },
          "metadata": {
            "needs_background": "light"
          }
        }
      ]
    },
    {
      "cell_type": "code",
      "metadata": {
        "id": "5ff3e980-4838-409d-a876-fdb8e9bcd698"
      },
      "source": [
        ""
      ],
      "id": "5ff3e980-4838-409d-a876-fdb8e9bcd698",
      "execution_count": null,
      "outputs": []
    },
    {
      "cell_type": "code",
      "metadata": {
        "id": "ba1fb7d7-78a8-439e-9bdc-d05db9bee2ea"
      },
      "source": [
        ""
      ],
      "id": "ba1fb7d7-78a8-439e-9bdc-d05db9bee2ea",
      "execution_count": null,
      "outputs": []
    }
  ]
}