{
  "nbformat": 4,
  "nbformat_minor": 5,
  "metadata": {
    "kernelspec": {
      "display_name": "Python 3 (ipykernel)",
      "language": "python",
      "name": "python3"
    },
    "language_info": {
      "codemirror_mode": {
        "name": "ipython",
        "version": 3
      },
      "file_extension": ".py",
      "mimetype": "text/x-python",
      "name": "python",
      "nbconvert_exporter": "python",
      "pygments_lexer": "ipython3",
      "version": "3.9.7"
    },
    "colab": {
      "name": "Task_1.ipynb",
      "provenance": []
    }
  },
  "cells": [
    {
      "cell_type": "code",
      "metadata": {
        "id": "2e1b3f6a-38ff-437a-9d62-977e314db951"
      },
      "source": [
        "import pandas as pd\n",
        "import numpy as np\n",
        "import matplotlib.pyplot as plt\n",
        "from sklearn.preprocessing import LabelEncoder\n",
        "from sklearn.naive_bayes import GaussianNB, MultinomialNB\n",
        "from sklearn.model_selection import train_test_split\n"
      ],
      "id": "2e1b3f6a-38ff-437a-9d62-977e314db951",
      "execution_count": 4,
      "outputs": []
    },
    {
      "cell_type": "code",
      "metadata": {
        "colab": {
          "base_uri": "https://localhost:8080/",
          "height": 497
        },
        "id": "b826ac83-7030-4552-b9ba-c0d2079b55e0",
        "outputId": "bebe06b0-bdf9-4a92-db07-6b48d42325b9"
      },
      "source": [
        "dataset = pd.read_csv(\"Dataset3.csv\") \n",
        "print(\"Number of examples in dataset\", dataset.shape)\n",
        "dataset.head(15)"
      ],
      "id": "b826ac83-7030-4552-b9ba-c0d2079b55e0",
      "execution_count": 6,
      "outputs": [
        {
          "output_type": "stream",
          "name": "stdout",
          "text": [
            "Number of examples in dataset (14, 5)\n"
          ]
        },
        {
          "output_type": "execute_result",
          "data": {
            "text/html": [
              "<div>\n",
              "<style scoped>\n",
              "    .dataframe tbody tr th:only-of-type {\n",
              "        vertical-align: middle;\n",
              "    }\n",
              "\n",
              "    .dataframe tbody tr th {\n",
              "        vertical-align: top;\n",
              "    }\n",
              "\n",
              "    .dataframe thead th {\n",
              "        text-align: right;\n",
              "    }\n",
              "</style>\n",
              "<table border=\"1\" class=\"dataframe\">\n",
              "  <thead>\n",
              "    <tr style=\"text-align: right;\">\n",
              "      <th></th>\n",
              "      <th>Outlook</th>\n",
              "      <th>Temp</th>\n",
              "      <th>Wind</th>\n",
              "      <th>Humidity</th>\n",
              "      <th>Class</th>\n",
              "    </tr>\n",
              "  </thead>\n",
              "  <tbody>\n",
              "    <tr>\n",
              "      <th>0</th>\n",
              "      <td>R</td>\n",
              "      <td>H</td>\n",
              "      <td>F</td>\n",
              "      <td>1</td>\n",
              "      <td>0</td>\n",
              "    </tr>\n",
              "    <tr>\n",
              "      <th>1</th>\n",
              "      <td>R</td>\n",
              "      <td>H</td>\n",
              "      <td>T</td>\n",
              "      <td>2</td>\n",
              "      <td>0</td>\n",
              "    </tr>\n",
              "    <tr>\n",
              "      <th>2</th>\n",
              "      <td>O</td>\n",
              "      <td>H</td>\n",
              "      <td>F</td>\n",
              "      <td>1</td>\n",
              "      <td>1</td>\n",
              "    </tr>\n",
              "    <tr>\n",
              "      <th>3</th>\n",
              "      <td>R</td>\n",
              "      <td>M</td>\n",
              "      <td>F</td>\n",
              "      <td>1</td>\n",
              "      <td>1</td>\n",
              "    </tr>\n",
              "    <tr>\n",
              "      <th>4</th>\n",
              "      <td>S</td>\n",
              "      <td>C</td>\n",
              "      <td>F</td>\n",
              "      <td>1</td>\n",
              "      <td>1</td>\n",
              "    </tr>\n",
              "    <tr>\n",
              "      <th>5</th>\n",
              "      <td>O</td>\n",
              "      <td>C</td>\n",
              "      <td>T</td>\n",
              "      <td>0</td>\n",
              "      <td>0</td>\n",
              "    </tr>\n",
              "    <tr>\n",
              "      <th>6</th>\n",
              "      <td>O</td>\n",
              "      <td>C</td>\n",
              "      <td>T</td>\n",
              "      <td>1</td>\n",
              "      <td>1</td>\n",
              "    </tr>\n",
              "    <tr>\n",
              "      <th>7</th>\n",
              "      <td>R</td>\n",
              "      <td>M</td>\n",
              "      <td>F</td>\n",
              "      <td>1</td>\n",
              "      <td>0</td>\n",
              "    </tr>\n",
              "    <tr>\n",
              "      <th>8</th>\n",
              "      <td>O</td>\n",
              "      <td>C</td>\n",
              "      <td>F</td>\n",
              "      <td>0</td>\n",
              "      <td>1</td>\n",
              "    </tr>\n",
              "    <tr>\n",
              "      <th>9</th>\n",
              "      <td>S</td>\n",
              "      <td>M</td>\n",
              "      <td>F</td>\n",
              "      <td>2</td>\n",
              "      <td>1</td>\n",
              "    </tr>\n",
              "    <tr>\n",
              "      <th>10</th>\n",
              "      <td>R</td>\n",
              "      <td>C</td>\n",
              "      <td>T</td>\n",
              "      <td>2</td>\n",
              "      <td>0</td>\n",
              "    </tr>\n",
              "    <tr>\n",
              "      <th>11</th>\n",
              "      <td>O</td>\n",
              "      <td>M</td>\n",
              "      <td>T</td>\n",
              "      <td>0</td>\n",
              "      <td>1</td>\n",
              "    </tr>\n",
              "    <tr>\n",
              "      <th>12</th>\n",
              "      <td>O</td>\n",
              "      <td>H</td>\n",
              "      <td>F</td>\n",
              "      <td>1</td>\n",
              "      <td>1</td>\n",
              "    </tr>\n",
              "    <tr>\n",
              "      <th>13</th>\n",
              "      <td>S</td>\n",
              "      <td>M</td>\n",
              "      <td>T</td>\n",
              "      <td>1</td>\n",
              "      <td>0</td>\n",
              "    </tr>\n",
              "  </tbody>\n",
              "</table>\n",
              "</div>"
            ],
            "text/plain": [
              "   Outlook Temp Wind  Humidity  Class\n",
              "0        R    H    F         1      0\n",
              "1        R    H    T         2      0\n",
              "2        O    H    F         1      1\n",
              "3        R    M    F         1      1\n",
              "4        S    C    F         1      1\n",
              "5        O    C    T         0      0\n",
              "6        O    C    T         1      1\n",
              "7        R    M    F         1      0\n",
              "8        O    C    F         0      1\n",
              "9        S    M    F         2      1\n",
              "10       R    C    T         2      0\n",
              "11       O    M    T         0      1\n",
              "12       O    H    F         1      1\n",
              "13       S    M    T         1      0"
            ]
          },
          "metadata": {},
          "execution_count": 6
        }
      ]
    },
    {
      "cell_type": "code",
      "metadata": {
        "colab": {
          "base_uri": "https://localhost:8080/"
        },
        "id": "7ca783c1-65b0-4c94-beeb-a50ad90740d2",
        "outputId": "7cd90e24-c34a-4c4b-ee56-6e2f811b5dd0"
      },
      "source": [
        "start = \"\\033[1m\"\n",
        "end = \"\\033[0;0m\"\n",
        "\n",
        "print(start +\"Unique outlook values\" +end, dataset['Outlook'].unique())\n",
        "print(start +\"Unique Temp values\" +end, dataset['Temp'].unique())\n",
        "print(start +\"Unique Wind values\" +end, dataset['Wind'].unique())\n",
        "print(start +\"Unique Humidity values\" +end, dataset['Humidity'].unique())\n",
        "print(start +\"Unique Class values\" +end, dataset['Class'].unique())"
      ],
      "id": "7ca783c1-65b0-4c94-beeb-a50ad90740d2",
      "execution_count": 8,
      "outputs": [
        {
          "output_type": "stream",
          "name": "stdout",
          "text": [
            "\u001b[1mUnique outlook values\u001b[0;0m ['R' 'O' 'S']\n",
            "\u001b[1mUnique Temp values\u001b[0;0m ['H' 'M' 'C']\n",
            "\u001b[1mUnique Wind values\u001b[0;0m ['F' 'T']\n",
            "\u001b[1mUnique Humidity values\u001b[0;0m [1 2 0]\n",
            "\u001b[1mUnique Class values\u001b[0;0m [0 1]\n"
          ]
        }
      ]
    },
    {
      "cell_type": "code",
      "metadata": {
        "colab": {
          "base_uri": "https://localhost:8080/"
        },
        "id": "08990199-aaa4-4511-9339-d77910ab0743",
        "outputId": "e6568790-8935-4ab8-a61a-51f80c009ab9"
      },
      "source": [
        "print(dataset.iloc[:,0:3])\n",
        "print(dataset.dtypes)\n",
        "#creating labelEncoder\n",
        "le = LabelEncoder()\n",
        "# dataset['Outlook'] == dataset.Outlook\n",
        "dataset['Outlook'] = le.fit_transform(dataset.Outlook)\n",
        "dataset['Temp'] = le.fit_transform(dataset.Temp)\n",
        "dataset['Wind'] = le.fit_transform(dataset.Wind)\n",
        "\n",
        "print(dataset.iloc[:,0:3])\n",
        "\n",
        "print(dataset.dtypes)"
      ],
      "id": "08990199-aaa4-4511-9339-d77910ab0743",
      "execution_count": 9,
      "outputs": [
        {
          "output_type": "stream",
          "name": "stdout",
          "text": [
            "   Outlook Temp Wind\n",
            "0        R    H    F\n",
            "1        R    H    T\n",
            "2        O    H    F\n",
            "3        R    M    F\n",
            "4        S    C    F\n",
            "5        O    C    T\n",
            "6        O    C    T\n",
            "7        R    M    F\n",
            "8        O    C    F\n",
            "9        S    M    F\n",
            "10       R    C    T\n",
            "11       O    M    T\n",
            "12       O    H    F\n",
            "13       S    M    T\n",
            "Outlook     object\n",
            "Temp        object\n",
            "Wind        object\n",
            "Humidity     int64\n",
            "Class        int64\n",
            "dtype: object\n",
            "    Outlook  Temp  Wind\n",
            "0         1     1     0\n",
            "1         1     1     1\n",
            "2         0     1     0\n",
            "3         1     2     0\n",
            "4         2     0     0\n",
            "5         0     0     1\n",
            "6         0     0     1\n",
            "7         1     2     0\n",
            "8         0     0     0\n",
            "9         2     2     0\n",
            "10        1     0     1\n",
            "11        0     2     1\n",
            "12        0     1     0\n",
            "13        2     2     1\n",
            "Outlook     int64\n",
            "Temp        int64\n",
            "Wind        int64\n",
            "Humidity    int64\n",
            "Class       int64\n",
            "dtype: object\n"
          ]
        }
      ]
    },
    {
      "cell_type": "code",
      "metadata": {
        "id": "d5e0f502-8d8d-44d7-ae0b-cf45c6995ba6"
      },
      "source": [
        "labels = dataset.Class\n",
        "data_train,data_test,train_target,test_target =train_test_split(dataset.iloc[:,:-1],labels,test_size =0.05,random_state=128)\n",
        "\n"
      ],
      "id": "d5e0f502-8d8d-44d7-ae0b-cf45c6995ba6",
      "execution_count": 36,
      "outputs": []
    },
    {
      "cell_type": "code",
      "metadata": {
        "colab": {
          "base_uri": "https://localhost:8080/"
        },
        "id": "e1d44a54-72b3-4604-84c1-0e09d1025d6d",
        "outputId": "a980246e-1165-471e-af2d-0ed10f8a3494"
      },
      "source": [
        "gnb = GaussianNB()\n",
        "\n",
        "#Train the model using the training sets\n",
        "gnb.fit(data_train, train_target)\n",
        "\n",
        "#Predict the response for test dataset\n",
        "target_pred = gnb.predict(data_test)\n",
        "\n",
        "print(target_pred)"
      ],
      "id": "e1d44a54-72b3-4604-84c1-0e09d1025d6d",
      "execution_count": 37,
      "outputs": [
        {
          "output_type": "stream",
          "name": "stdout",
          "text": [
            "[0]\n"
          ]
        }
      ]
    },
    {
      "cell_type": "code",
      "metadata": {
        "colab": {
          "base_uri": "https://localhost:8080/"
        },
        "id": "3f11d90a-41f7-4c49-ae52-0619c0b07668",
        "outputId": "14eaea8e-4251-402b-9b48-13e78be3c4c1"
      },
      "source": [
        "#Import scikit-learn metrics module for accuracy calculation\n",
        "from sklearn import metrics\n",
        "\n",
        "# Model Accuracy, how often is the classifier correct?\n",
        "print(\"Accuracy:\",metrics.accuracy_score(test_target, target_pred))"
      ],
      "id": "3f11d90a-41f7-4c49-ae52-0619c0b07668",
      "execution_count": 38,
      "outputs": [
        {
          "output_type": "stream",
          "name": "stdout",
          "text": [
            "Accuracy: 0.0\n"
          ]
        }
      ]
    },
    {
      "cell_type": "code",
      "metadata": {
        "colab": {
          "base_uri": "https://localhost:8080/"
        },
        "id": "45af6382-11f9-4571-bbab-028fdf7dd259",
        "outputId": "ce5c3804-5671-4915-db16-b5a8f9a04c2f"
      },
      "source": [
        "#Import confusion_matrix from scikit-learn metrics module for confusion_matrix\n",
        "from sklearn.metrics import confusion_matrix\n",
        "confusion_matrix(test_target, target_pred)"
      ],
      "id": "45af6382-11f9-4571-bbab-028fdf7dd259",
      "execution_count": 39,
      "outputs": [
        {
          "output_type": "execute_result",
          "data": {
            "text/plain": [
              "array([[0, 0],\n",
              "       [1, 0]])"
            ]
          },
          "metadata": {},
          "execution_count": 39
        }
      ]
    },
    {
      "cell_type": "code",
      "metadata": {
        "colab": {
          "base_uri": "https://localhost:8080/"
        },
        "id": "eGL8G7jxy1et",
        "outputId": "29f65301-7094-491b-bde4-9fb0f7a65500"
      },
      "source": [
        "#Answer to the question for Task-1\n",
        "\n",
        "#Question-1:What will be the value of Play, if Outlook is ’Rainy’, Temperature is ’Mild’, Humidity =’Normal’, and Wind = ’False’?\n",
        "\n",
        "#Predict Output\n",
        "predicted= gnb.predict([[1,2,0,1]]) # 1:Rainy 2:Mild 0:False  2:Normal\n",
        "print(\"Predicted Value:\", predicted)"
      ],
      "id": "eGL8G7jxy1et",
      "execution_count": 40,
      "outputs": [
        {
          "output_type": "stream",
          "name": "stdout",
          "text": [
            "Predicted Value: [1]\n"
          ]
        }
      ]
    },
    {
      "cell_type": "code",
      "metadata": {
        "colab": {
          "base_uri": "https://localhost:8080/"
        },
        "id": "2a2eb698-6656-48b3-8cbe-7b558b6fd35f",
        "outputId": "14cbb6ce-babc-4751-c8fc-90d47696ff1c"
      },
      "source": [
        "#Question-2:What will be the value of Play, if Outlook is ’Sunny’, Temeprature is ’Cool’, Humidity =’High’, and Wind = ’True’?\n",
        "#Predict Output\n",
        "predicted= gnb.predict([[2,0,1,2]]) # 2:Sunny 0:Cool  1:True  2:Humidity\n",
        "print(\"Predicted Value:\", predicted)\n"
      ],
      "id": "2a2eb698-6656-48b3-8cbe-7b558b6fd35f",
      "execution_count": 41,
      "outputs": [
        {
          "output_type": "stream",
          "name": "stdout",
          "text": [
            "Predicted Value: [0]\n"
          ]
        }
      ]
    },
    {
      "cell_type": "code",
      "metadata": {
        "colab": {
          "base_uri": "https://localhost:8080/"
        },
        "id": "f449eb0c-c6fb-4058-8a60-55fd87820483",
        "outputId": "c8c16ff2-7a2a-4f91-893e-9538ef4aff8f"
      },
      "source": [
        "#Question-3:Precession and Recall of the model\n",
        "\n",
        "from sklearn.metrics import precision_score\n",
        "from sklearn.metrics import recall_score\n",
        "\n",
        "precision = precision_score(test_target, target_pred)\n",
        "recall = recall_score(test_target, target_pred)\n",
        "\n",
        "print('precision: {}'.format(precision))\n",
        "print('recall: {}'.format(recall))"
      ],
      "id": "f449eb0c-c6fb-4058-8a60-55fd87820483",
      "execution_count": 42,
      "outputs": [
        {
          "output_type": "stream",
          "name": "stdout",
          "text": [
            "precision: 0.0\n",
            "recall: 0.0\n"
          ]
        },
        {
          "output_type": "stream",
          "name": "stderr",
          "text": [
            "/usr/local/lib/python3.7/dist-packages/sklearn/metrics/_classification.py:1272: UndefinedMetricWarning: Precision is ill-defined and being set to 0.0 due to no predicted samples. Use `zero_division` parameter to control this behavior.\n",
            "  _warn_prf(average, modifier, msg_start, len(result))\n"
          ]
        }
      ]
    },
    {
      "cell_type": "code",
      "metadata": {
        "id": "697b766b-b4c8-427d-8918-d8e18e8ebade"
      },
      "source": [
        ""
      ],
      "id": "697b766b-b4c8-427d-8918-d8e18e8ebade",
      "execution_count": null,
      "outputs": []
    }
  ]
}