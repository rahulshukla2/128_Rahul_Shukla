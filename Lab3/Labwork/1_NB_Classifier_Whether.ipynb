{
  "nbformat": 4,
  "nbformat_minor": 0,
  "metadata": {
    "kernelspec": {
      "display_name": "Python 3",
      "language": "python",
      "name": "python3"
    },
    "language_info": {
      "codemirror_mode": {
        "name": "ipython",
        "version": 3
      },
      "file_extension": ".py",
      "mimetype": "text/x-python",
      "name": "python",
      "nbconvert_exporter": "python",
      "pygments_lexer": "ipython3",
      "version": "3.6.6"
    },
    "colab": {
      "name": "1_NB_Classifier_Whether.ipynb",
      "provenance": []
    }
  },
  "cells": [
    {
      "cell_type": "markdown",
      "metadata": {
        "id": "v-qaLkV_wIwA"
      },
      "source": [
        "**Aim: Implement Naive Bayes classifier : Whether Example**"
      ]
    },
    {
      "cell_type": "markdown",
      "metadata": {
        "id": "fE3k_I_lwE3_"
      },
      "source": [
        "#Step 1: Import necessary libraries.\n",
        "We will use preprocessing and naive bayes libraries of sklearn"
      ]
    },
    {
      "cell_type": "code",
      "metadata": {
        "id": "AX_Lt4HDvoF4"
      },
      "source": [
        "from sklearn import preprocessing\n",
        "from sklearn.naive_bayes import GaussianNB, MultinomialNB"
      ],
      "execution_count": 1,
      "outputs": []
    },
    {
      "cell_type": "markdown",
      "metadata": {
        "id": "heSKGhv4wPYo"
      },
      "source": [
        "#Step 2: Prepare dataset.\n",
        "Create feature set for weather and temperature, and classlabel play."
      ]
    },
    {
      "cell_type": "code",
      "metadata": {
        "id": "YBmuKC8mvoGe"
      },
      "source": [
        "weather = ['Sunny', 'Sunny', 'Overcast', 'Rainy', 'Rainy','Rainy', 'Overcast',\n",
        "           'Sunny', 'Sunny', 'Rainy', 'Sunny', 'Overcast', 'Overcast', 'Rainy']\n",
        "\n",
        "temp = ['Hot','Hot','Hot','Mild','Cool','Cool','Cool','Mild',\n",
        "        'Cool','Mild','Mild','Mild','Hot','Mild']\n",
        "\n",
        "play=['No','No','Yes','Yes','Yes','No','Yes','No','Yes',\n",
        "      'Yes','Yes','Yes','Yes','No']"
      ],
      "execution_count": 2,
      "outputs": []
    },
    {
      "cell_type": "markdown",
      "metadata": {
        "id": "VLHsDzOlwUcc"
      },
      "source": [
        "#Step 3: Digitize the data set using encoding"
      ]
    },
    {
      "cell_type": "code",
      "metadata": {
        "id": "D2Y-GxbyvoG-",
        "colab": {
          "base_uri": "https://localhost:8080/"
        },
        "outputId": "773560c6-052b-4d6a-d01c-51a0ea934fd4"
      },
      "source": [
        "#creating labelEncoder\n",
        "le = preprocessing.LabelEncoder()\n",
        "\n",
        "# Converting string labels into numbers.\n",
        "weather_encoded=le.fit_transform(weather)\n",
        "print(\"Weather:\" ,weather_encoded)"
      ],
      "execution_count": 3,
      "outputs": [
        {
          "output_type": "stream",
          "name": "stdout",
          "text": [
            "Weather: [2 2 0 1 1 1 0 2 2 1 2 0 0 1]\n"
          ]
        }
      ]
    },
    {
      "cell_type": "code",
      "metadata": {
        "id": "E8pKDFm8voHY",
        "colab": {
          "base_uri": "https://localhost:8080/"
        },
        "outputId": "27003e1b-4b85-45b5-e71c-b6569e8cbe40"
      },
      "source": [
        "temp_encoded=le.fit_transform(temp)\n",
        "label=le.fit_transform(play)\n",
        "\n",
        "print(\"Temp:\",temp_encoded)\n",
        "print(\"Play:\",label)"
      ],
      "execution_count": 4,
      "outputs": [
        {
          "output_type": "stream",
          "name": "stdout",
          "text": [
            "Temp: [1 1 1 2 0 0 0 2 0 2 2 2 1 2]\n",
            "Play: [0 0 1 1 1 0 1 0 1 1 1 1 1 0]\n"
          ]
        }
      ]
    },
    {
      "cell_type": "markdown",
      "metadata": {
        "id": "1u2XKORtwckp"
      },
      "source": [
        "#Step 4: Merge different features to prepare dataset"
      ]
    },
    {
      "cell_type": "code",
      "metadata": {
        "id": "zcNtO6aUvoHs",
        "colab": {
          "base_uri": "https://localhost:8080/"
        },
        "outputId": "27ae7749-6aef-4ebb-fd6b-cf1740c65bf7"
      },
      "source": [
        "#Combinig weather and temp into single listof tuples\n",
        "features=tuple(zip(weather_encoded,temp_encoded))\n",
        "print(\"Features:\",features)"
      ],
      "execution_count": 5,
      "outputs": [
        {
          "output_type": "stream",
          "name": "stdout",
          "text": [
            "Features: ((2, 1), (2, 1), (0, 1), (1, 2), (1, 0), (1, 0), (0, 0), (2, 2), (2, 0), (1, 2), (2, 2), (0, 2), (0, 1), (1, 2))\n"
          ]
        }
      ]
    },
    {
      "cell_type": "markdown",
      "metadata": {
        "id": "CDOMHUccT1hA"
      },
      "source": [
        ""
      ]
    },
    {
      "cell_type": "markdown",
      "metadata": {
        "id": "ZTs-FRS5wgQs"
      },
      "source": [
        "#Step 5: Train ’Naive Bayes Classifier’"
      ]
    },
    {
      "cell_type": "code",
      "metadata": {
        "id": "6ON9ljKDvoIB",
        "colab": {
          "base_uri": "https://localhost:8080/"
        },
        "outputId": "7c9c5d0f-de34-43dd-ce3d-e900c01fbc6a"
      },
      "source": [
        "#Create a Classifier\n",
        "model=MultinomialNB()\n",
        "# Train the model using the training sets\n",
        "model.fit(features,label)"
      ],
      "execution_count": 6,
      "outputs": [
        {
          "output_type": "execute_result",
          "data": {
            "text/plain": [
              "MultinomialNB(alpha=1.0, class_prior=None, fit_prior=True)"
            ]
          },
          "metadata": {},
          "execution_count": 6
        }
      ]
    },
    {
      "cell_type": "markdown",
      "metadata": {
        "id": "vRuNrfolwjn4"
      },
      "source": [
        "#Step 6: Predict Output for new data"
      ]
    },
    {
      "cell_type": "code",
      "metadata": {
        "id": "Ix6AhMALvoIU",
        "colab": {
          "base_uri": "https://localhost:8080/"
        },
        "outputId": "aef759f7-563b-41cd-a93b-90e086ddbd1d"
      },
      "source": [
        "#Predict Output\n",
        "predicted= model.predict([[0,2]]) # 0:Overcast, 2:Mild\n",
        "print(\"Predicted Value:\", predicted)"
      ],
      "execution_count": 7,
      "outputs": [
        {
          "output_type": "stream",
          "name": "stdout",
          "text": [
            "Predicted Value: [1]\n"
          ]
        }
      ]
    },
    {
      "cell_type": "code",
      "metadata": {
        "id": "HGejlGZvvoIk",
        "colab": {
          "base_uri": "https://localhost:8080/"
        },
        "outputId": "b81e3b03-f52b-4fd6-8ca4-701cc3b9af0a"
      },
      "source": [
        "predicted= model.predict([[0,1]]) # 0:Overcast, 1:Hot\n",
        "print(\"Predicted Value:\", predicted)"
      ],
      "execution_count": 8,
      "outputs": [
        {
          "output_type": "stream",
          "name": "stdout",
          "text": [
            "Predicted Value: [1]\n"
          ]
        }
      ]
    },
    {
      "cell_type": "code",
      "metadata": {
        "id": "ROG6v7C_voIy",
        "colab": {
          "base_uri": "https://localhost:8080/",
          "height": 34
        },
        "outputId": "0111d37f-41d9-4b51-a2ad-7bcddc0ee26c"
      },
      "source": [
        "predicted= model.predict([[2,2]]) # 2:Sunny, 2:Mild\n",
        "\n",
        "print(\"Predicted Value:\", predicted)"
      ],
      "execution_count": null,
      "outputs": [
        {
          "output_type": "stream",
          "text": [
            "Predicted Value: [1]\n"
          ],
          "name": "stdout"
        }
      ]
    },
    {
      "cell_type": "markdown",
      "metadata": {
        "id": "oKxdQNaxwoZn"
      },
      "source": [
        "#Exercise:\n",
        "\n",
        "**Manually calculate output for the following cases and compare it with system’s output.**\n",
        "\n",
        "######(1) Will you play if the temperature is 'Hot' and weather is 'overcast'?\n",
        "\n",
        "######(2) Will you play if the temperature is 'Mild' and weather is 'Sunny'?\n",
        "\n",
        "\n",
        "\n",
        "\n",
        "\n",
        "\n",
        "\n",
        "\n"
      ]
    },
    {
      "cell_type": "code",
      "metadata": {
        "id": "dQIOG4_9voJA",
        "colab": {
          "base_uri": "https://localhost:8080/"
        },
        "outputId": "e8169c80-3d45-409c-efdf-fe321d7e94e7"
      },
      "source": [
        "predicted= model.predict([[0,1]])\n",
        "print(\"Predicted Value:\", predicted)"
      ],
      "execution_count": 9,
      "outputs": [
        {
          "output_type": "stream",
          "name": "stdout",
          "text": [
            "Predicted Value: [1]\n"
          ]
        }
      ]
    },
    {
      "cell_type": "code",
      "metadata": {
        "colab": {
          "base_uri": "https://localhost:8080/"
        },
        "id": "fK0vyuEGdlwr",
        "outputId": "21732ed9-961a-4843-aa20-8c7550c8b0f2"
      },
      "source": [
        "predicted= model.predict([[2,2]])\n",
        "print(\"Predicted Value:\", predicted)"
      ],
      "execution_count": 10,
      "outputs": [
        {
          "output_type": "stream",
          "name": "stdout",
          "text": [
            "Predicted Value: [1]\n"
          ]
        }
      ]
    }
  ]
}