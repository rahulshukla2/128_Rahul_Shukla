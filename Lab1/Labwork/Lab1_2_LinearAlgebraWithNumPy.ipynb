{
  "nbformat": 4,
  "nbformat_minor": 0,
  "metadata": {
    "colab": {
      "name": "Lab1-2-LinearAlgebraWithNumPy.ipynb",
      "provenance": []
    },
    "kernelspec": {
      "name": "python3",
      "display_name": "Python 3"
    },
    "language_info": {
      "name": "python"
    }
  },
  "cells": [
    {
      "cell_type": "code",
      "metadata": {
        "id": "NS77ANhzum8K"
      },
      "source": [
        "import numpy as np"
      ],
      "execution_count": 1,
      "outputs": []
    },
    {
      "cell_type": "code",
      "metadata": {
        "id": "p5Qpe-SGuoRJ"
      },
      "source": [
        "alist = [1, 2, 3, 4, 5] # Define a python list. It looks like an np array\n",
        "narray = np.array([1, 2, 3, 4]) # Define a numpy array"
      ],
      "execution_count": 2,
      "outputs": []
    },
    {
      "cell_type": "code",
      "metadata": {
        "colab": {
          "base_uri": "https://localhost:8080/"
        },
        "id": "QI3USaHHu2cX",
        "outputId": "e2bfd0f6-9bd5-4e52-a2a3-50d69247b1ab"
      },
      "source": [
        "print(alist)\n",
        "print(narray)\n",
        "print(type(alist))\n",
        "print(type(narray))\n"
      ],
      "execution_count": 3,
      "outputs": [
        {
          "output_type": "stream",
          "name": "stdout",
          "text": [
            "[1, 2, 3, 4, 5]\n",
            "[1 2 3 4]\n",
            "<class 'list'>\n",
            "<class 'numpy.ndarray'>\n"
          ]
        }
      ]
    },
    {
      "cell_type": "code",
      "metadata": {
        "colab": {
          "base_uri": "https://localhost:8080/"
        },
        "id": "iqKu9Cdqu542",
        "outputId": "9b1bba1d-e4c8-48c3-f388-dc0d37f94ae4"
      },
      "source": [
        "print(narray + narray)\n",
        "print(alist + alist)\n"
      ],
      "execution_count": 4,
      "outputs": [
        {
          "output_type": "stream",
          "name": "stdout",
          "text": [
            "[2 4 6 8]\n",
            "[1, 2, 3, 4, 5, 1, 2, 3, 4, 5]\n"
          ]
        }
      ]
    },
    {
      "cell_type": "code",
      "metadata": {
        "colab": {
          "base_uri": "https://localhost:8080/"
        },
        "id": "zqU3N-mcvYbg",
        "outputId": "7c6fd399-d572-4da5-e347-f57a4cbf26aa"
      },
      "source": [
        "print(narray * 3)\n",
        "print(alist * 3)"
      ],
      "execution_count": 5,
      "outputs": [
        {
          "output_type": "stream",
          "name": "stdout",
          "text": [
            "[ 3  6  9 12]\n",
            "[1, 2, 3, 4, 5, 1, 2, 3, 4, 5, 1, 2, 3, 4, 5]\n"
          ]
        }
      ]
    },
    {
      "cell_type": "code",
      "metadata": {
        "colab": {
          "base_uri": "https://localhost:8080/"
        },
        "id": "varOuZMHvj52",
        "outputId": "822b767d-a022-41a5-dd00-8864d2c86178"
      },
      "source": [
        "npmatrix1 = np.array([narray, narray, narray]) # Matrix initialized with NumPy arrays\n",
        "npmatrix2 = np.array([alist, alist, alist]) # Matrix initialized with lists\n",
        "npmatrix3 = np.array([narray, [1, 1, 1, 1], narray]) # Matrix initialized with both types\n",
        "print(npmatrix1)\n",
        "print(npmatrix2)\n",
        "print(npmatrix3)\n"
      ],
      "execution_count": 7,
      "outputs": [
        {
          "output_type": "stream",
          "name": "stdout",
          "text": [
            "[[1 2 3 4]\n",
            " [1 2 3 4]\n",
            " [1 2 3 4]]\n",
            "[[1 2 3 4 5]\n",
            " [1 2 3 4 5]\n",
            " [1 2 3 4 5]]\n",
            "[[1 2 3 4]\n",
            " [1 1 1 1]\n",
            " [1 2 3 4]]\n"
          ]
        }
      ]
    },
    {
      "cell_type": "code",
      "metadata": {
        "colab": {
          "base_uri": "https://localhost:8080/"
        },
        "id": "HdejzE5mwCgQ",
        "outputId": "beeadf79-2623-4846-dd73-5c3a0a3c0391"
      },
      "source": [
        "# Example 1:\n",
        "okmatrix = np.array([[1, 2], [3, 4]]) # Define a 2x2 matrix\n",
        "print(okmatrix) # Print okmatrix\n",
        "print(okmatrix * 2) # Print a scaled version of okmatrix"
      ],
      "execution_count": 8,
      "outputs": [
        {
          "output_type": "stream",
          "name": "stdout",
          "text": [
            "[[1 2]\n",
            " [3 4]]\n",
            "[[2 4]\n",
            " [6 8]]\n"
          ]
        }
      ]
    },
    {
      "cell_type": "code",
      "metadata": {
        "colab": {
          "base_uri": "https://localhost:8080/"
        },
        "id": "NCM1mgL9wR63",
        "outputId": "f472d462-1ecb-49b5-e9a9-3da04043edc5"
      },
      "source": [
        "# Example 2:\n",
        "badmatrix = np.array([[1, 2], [3, 4], [5, 6, 7]]) # Define a matrix. Note the third rowcontains 3 elements\n",
        "print(badmatrix) # Print the malformed matrix\n",
        "print(badmatrix * 2) # It is supposed to scale the whole matrix"
      ],
      "execution_count": 10,
      "outputs": [
        {
          "output_type": "stream",
          "name": "stdout",
          "text": [
            "[list([1, 2]) list([3, 4]) list([5, 6, 7])]\n",
            "[list([1, 2, 1, 2]) list([3, 4, 3, 4]) list([5, 6, 7, 5, 6, 7])]\n"
          ]
        },
        {
          "output_type": "stream",
          "name": "stderr",
          "text": [
            "/usr/local/lib/python3.7/dist-packages/ipykernel_launcher.py:2: VisibleDeprecationWarning: Creating an ndarray from ragged nested sequences (which is a list-or-tuple of lists-or-tuples-or ndarrays with different lengths or shapes) is deprecated. If you meant to do this, you must specify 'dtype=object' when creating the ndarray\n",
            "  \n"
          ]
        }
      ]
    },
    {
      "cell_type": "code",
      "metadata": {
        "colab": {
          "base_uri": "https://localhost:8080/"
        },
        "id": "2d9B5Eeq2yud",
        "outputId": "8bf03f15-bc11-452d-a181-d17b446e654d"
      },
      "source": [
        "# Scale by 2 and translate 1 unit the matrix\n",
        "result = okmatrix * 2 + 1 # For each element in the matrix, multiply by 2 and add 1\n",
        "print(result)"
      ],
      "execution_count": 11,
      "outputs": [
        {
          "output_type": "stream",
          "name": "stdout",
          "text": [
            "[[3 5]\n",
            " [7 9]]\n"
          ]
        }
      ]
    },
    {
      "cell_type": "code",
      "metadata": {
        "colab": {
          "base_uri": "https://localhost:8080/"
        },
        "id": "RPlryUhF22bh",
        "outputId": "7fa3b5ea-9c86-4747-9f1c-947a0f42dca6"
      },
      "source": [
        "# Add two sum compatible matrices\n",
        "result1 = okmatrix + okmatrix\n",
        "print(result1)\n",
        "# Subtract two sum compatible matrices. This is called the difference vector\n",
        "result2 = okmatrix - okmatrix\n",
        "print(result2)"
      ],
      "execution_count": 12,
      "outputs": [
        {
          "output_type": "stream",
          "name": "stdout",
          "text": [
            "[[2 4]\n",
            " [6 8]]\n",
            "[[0 0]\n",
            " [0 0]]\n"
          ]
        }
      ]
    },
    {
      "cell_type": "code",
      "metadata": {
        "colab": {
          "base_uri": "https://localhost:8080/"
        },
        "id": "9RmqoM2X28jf",
        "outputId": "5b10dbde-f17a-457e-ec31-011391448048"
      },
      "source": [
        "result = okmatrix * okmatrix # Multiply each element by itself\n",
        "print(result)"
      ],
      "execution_count": 13,
      "outputs": [
        {
          "output_type": "stream",
          "name": "stdout",
          "text": [
            "[[ 1  4]\n",
            " [ 9 16]]\n"
          ]
        }
      ]
    },
    {
      "cell_type": "code",
      "metadata": {
        "colab": {
          "base_uri": "https://localhost:8080/"
        },
        "id": "chcFdo_S2_9A",
        "outputId": "ef812e7c-07f2-47f5-ca88-68a5bd60ed75"
      },
      "source": [
        "matrix3x2 = np.array([[1, 2], [3, 4], [5, 6]]) # Define a 3x2 matrix\n",
        "print('Original matrix 3 x 2')\n",
        "print(matrix3x2)\n",
        "print('Transposed matrix 2 x 3')\n",
        "print(matrix3x2.T)"
      ],
      "execution_count": 14,
      "outputs": [
        {
          "output_type": "stream",
          "name": "stdout",
          "text": [
            "Original matrix 3 x 2\n",
            "[[1 2]\n",
            " [3 4]\n",
            " [5 6]]\n",
            "Transposed matrix 2 x 3\n",
            "[[1 3 5]\n",
            " [2 4 6]]\n"
          ]
        }
      ]
    },
    {
      "cell_type": "code",
      "metadata": {
        "colab": {
          "base_uri": "https://localhost:8080/"
        },
        "id": "Sz2Oj0Xj3Adn",
        "outputId": "586bd532-8695-418c-d881-ce00510d6c47"
      },
      "source": [
        "# However, note that the transpose operation does not affect 1D arrays.\n",
        "nparray = np.array([1, 2, 3, 4]) # Define an array\n",
        "print('Original array')\n",
        "print(nparray)\n",
        "print('Transposed array')\n",
        "print(nparray.T)"
      ],
      "execution_count": 15,
      "outputs": [
        {
          "output_type": "stream",
          "name": "stdout",
          "text": [
            "Original array\n",
            "[1 2 3 4]\n",
            "Transposed array\n",
            "[1 2 3 4]\n"
          ]
        }
      ]
    },
    {
      "cell_type": "code",
      "metadata": {
        "colab": {
          "base_uri": "https://localhost:8080/"
        },
        "id": "9HGmwQlB3A3I",
        "outputId": "f6f7f23e-b111-499b-9d59-61cbd45dfa21"
      },
      "source": [
        "nparray = np.array([[1, 2, 3, 4]]) # Define a 1 x 4 matrix. Note the 2 level of square brackets\n",
        "print('Original array')\n",
        "print(nparray)\n",
        "print('Transposed array')\n",
        "print(nparray.T)"
      ],
      "execution_count": 16,
      "outputs": [
        {
          "output_type": "stream",
          "name": "stdout",
          "text": [
            "Original array\n",
            "[[1 2 3 4]]\n",
            "Transposed array\n",
            "[[1]\n",
            " [2]\n",
            " [3]\n",
            " [4]]\n"
          ]
        }
      ]
    },
    {
      "cell_type": "code",
      "metadata": {
        "colab": {
          "base_uri": "https://localhost:8080/"
        },
        "id": "1GR332Ne5LLG",
        "outputId": "66a006c3-c527-4a54-fdc9-f97ab9571bbf"
      },
      "source": [
        "nparray1 = np.array([1, 2, 3, 4]) # Define an array\n",
        "norm1 = np.linalg.norm(nparray1)\n",
        "nparray2 = np.array([[1, 2], [3, 4]]) # Define a 2 x 2 matrix. Note the 2 level of square brackets\n",
        "norm2 = np.linalg.norm(nparray2)\n",
        "print(norm1)\n",
        "print(norm2)\n"
      ],
      "execution_count": 18,
      "outputs": [
        {
          "output_type": "stream",
          "name": "stdout",
          "text": [
            "5.477225575051661\n",
            "5.477225575051661\n"
          ]
        }
      ]
    },
    {
      "cell_type": "code",
      "metadata": {
        "colab": {
          "base_uri": "https://localhost:8080/"
        },
        "id": "9ntSEwXO5PTs",
        "outputId": "5678ba84-211e-4254-df01-6f167005a2f2"
      },
      "source": [
        "nparray2 = np.array([[1, 1], [2, 2], [3, 3]]) # Define a 3 x 2 matrix.\n",
        "normByCols = np.linalg.norm(nparray2, axis=0) # Get the norm for each column. Returns 2 elements\n",
        "normByRows = np.linalg.norm(nparray2, axis=1) # get the norm for each row. Returns 3 elements\n",
        "print(normByCols)\n",
        "print(normByRows)\n"
      ],
      "execution_count": 20,
      "outputs": [
        {
          "output_type": "stream",
          "name": "stdout",
          "text": [
            "[3.74165739 3.74165739]\n",
            "[1.41421356 2.82842712 4.24264069]\n"
          ]
        }
      ]
    },
    {
      "cell_type": "code",
      "metadata": {
        "colab": {
          "base_uri": "https://localhost:8080/"
        },
        "id": "eLWoFdPG5_Z0",
        "outputId": "a9af9e5f-5a09-4115-fcf5-3eea40c45c1c"
      },
      "source": [
        "nparray1 = np.array([0, 1, 2, 3]) # Define an array\n",
        "nparray2 = np.array([4, 5, 6, 7]) # Define an array\n",
        "flavor1 = np.dot(nparray1, nparray2) # Way-1\n",
        "print(flavor1)\n",
        "flavor2 = np.sum(nparray1 * nparray2) # Way-2\n",
        "print(flavor2)\n",
        "flavor3 = nparray1 @ nparray2 # Way-3\n",
        "print(flavor3)\n",
        "# As you never should do: #Way-4\n",
        "flavor4 = 0\n",
        "for a, b in zip(nparray1, nparray2):\n",
        "  flavor4 += a * b\n",
        "print(flavor4)\n"
      ],
      "execution_count": 22,
      "outputs": [
        {
          "output_type": "stream",
          "name": "stdout",
          "text": [
            "38\n",
            "38\n",
            "38\n",
            "38\n"
          ]
        }
      ]
    },
    {
      "cell_type": "code",
      "metadata": {
        "colab": {
          "base_uri": "https://localhost:8080/"
        },
        "id": "b0RIb4jh5_wW",
        "outputId": "49b58cb5-bdb7-439c-f89a-4a702fffeda0"
      },
      "source": [
        "norm1 = np.dot(np.array([1, 2]), np.array([3, 4])) # Dot product on nparrays\n",
        "norm2 = np.dot([1, 2], [3, 4]) # Dot product on python lists\n",
        "print(norm1, '=', norm2 )"
      ],
      "execution_count": 23,
      "outputs": [
        {
          "output_type": "stream",
          "name": "stdout",
          "text": [
            "11 = 11\n"
          ]
        }
      ]
    },
    {
      "cell_type": "code",
      "metadata": {
        "colab": {
          "base_uri": "https://localhost:8080/"
        },
        "id": "XmgqreZv3BSS",
        "outputId": "7a44ee03-800c-4a89-9218-76a4cd2acf05"
      },
      "source": [
        "nparray2 = np.array([[1, -1], [2, -2], [3, -3]]) # Define a 3 x 2 matrix.\n",
        "sumByCols = np.sum(nparray2, axis=0) # Get the sum for each column. Returns 2 elements\n",
        "sumByRows = np.sum(nparray2, axis=1) # get the sum for each row. Returns 3 elements\n",
        "print('Sum by columns: ')\n",
        "print(sumByCols)\n",
        "print('Sum by rows:')\n",
        "print(sumByRows)"
      ],
      "execution_count": 24,
      "outputs": [
        {
          "output_type": "stream",
          "name": "stdout",
          "text": [
            "Sum by columns: \n",
            "[ 6 -6]\n",
            "Sum by rows:\n",
            "[0 0 0]\n"
          ]
        }
      ]
    },
    {
      "cell_type": "code",
      "metadata": {
        "colab": {
          "base_uri": "https://localhost:8080/"
        },
        "id": "C5f67B5J3P4W",
        "outputId": "9b75a830-39ee-4bde-bb6f-35b0f0c1cb8c"
      },
      "source": [
        "nparray2 = np.array([[1, -1], [2, -2], [3, -3]]) # Define a 3 x 2 matrix. Chosen to be a matrix with 0 mean\n",
        "mean = np.mean(nparray2) # Get the mean for the whole matrix\n",
        "meanByCols = np.mean(nparray2, axis=0) # Get the mean for each column. Returns 2 elements\n",
        "meanByRows = np.mean(nparray2, axis=1) # get the mean for each row. Returns 3 elements\n",
        "print('Matrix mean: ')\n",
        "print(mean)\n",
        "print('Mean by columns: ')\n",
        "print(meanByCols)\n",
        "print('Mean by rows:')\n",
        "print(meanByRows)"
      ],
      "execution_count": 25,
      "outputs": [
        {
          "output_type": "stream",
          "name": "stdout",
          "text": [
            "Matrix mean: \n",
            "0.0\n",
            "Mean by columns: \n",
            "[ 2. -2.]\n",
            "Mean by rows:\n",
            "[0. 0. 0.]\n"
          ]
        }
      ]
    },
    {
      "cell_type": "code",
      "metadata": {
        "colab": {
          "base_uri": "https://localhost:8080/"
        },
        "id": "h-TlDP6l3Svh",
        "outputId": "45a61aa1-3de5-4ac7-c677-7c4debcc0ecb"
      },
      "source": [
        "nparray2 = np.array([[1, 1], [2, 2], [3, 3]]) # Define a 3 x 2 matrix.\n",
        "nparrayCentered = nparray2 - np.mean(nparray2, axis=0) # Remove the mean for each column\n",
        "print('Original matrix')\n",
        "print(nparray2)\n",
        "print('Centered by columns matrix')\n",
        "print(nparrayCentered)\n",
        "print('New mean by column')\n",
        "print(nparrayCentered.mean(axis=0))"
      ],
      "execution_count": 26,
      "outputs": [
        {
          "output_type": "stream",
          "name": "stdout",
          "text": [
            "Original matrix\n",
            "[[1 1]\n",
            " [2 2]\n",
            " [3 3]]\n",
            "Centered by columns matrix\n",
            "[[-1. -1.]\n",
            " [ 0.  0.]\n",
            " [ 1.  1.]]\n",
            "New mean by column\n",
            "[0. 0.]\n"
          ]
        }
      ]
    },
    {
      "cell_type": "code",
      "metadata": {
        "colab": {
          "base_uri": "https://localhost:8080/"
        },
        "id": "21OpL8lq3V0U",
        "outputId": "023422e2-88fa-4fbe-d90d-b22d2bb1caa9"
      },
      "source": [
        "# 1 3\n",
        "# 2 4\n",
        "# 3 5\n",
        "nparray2 = np.array([[1, 3], [2, 4], [3, 5]]) # Define a 3 x 2 matrix.\n",
        "print('Original matrix')\n",
        "print(nparray2)\n",
        "print(nparray2.T)\n",
        "print(np.mean(nparray2, axis=1))\n",
        "print(np.mean(nparray2, axis=0))\n",
        "nparrayCentered = nparray2.T - np.mean(nparray2, axis=1) # Remove the mean for each row\n",
        "nparrayCentered = nparrayCentered.T # Transpose back the result\n",
        "print('Centered by columns matrix')\n",
        "print(nparrayCentered)\n",
        "# print('New mean by rows')\n",
        "# print(nparrayCentered.mean(axis=1))\n",
        "a = np.array([[1, 3], [2, 4], [3, 5]])\n",
        "print(a-np.array([1, 1]))"
      ],
      "execution_count": 27,
      "outputs": [
        {
          "output_type": "stream",
          "name": "stdout",
          "text": [
            "Original matrix\n",
            "[[1 3]\n",
            " [2 4]\n",
            " [3 5]]\n",
            "[[1 2 3]\n",
            " [3 4 5]]\n",
            "[2. 3. 4.]\n",
            "[2. 4.]\n",
            "Centered by columns matrix\n",
            "[[-1.  1.]\n",
            " [-1.  1.]\n",
            " [-1.  1.]]\n",
            "[[0 2]\n",
            " [1 3]\n",
            " [2 4]]\n"
          ]
        }
      ]
    }
  ]
}