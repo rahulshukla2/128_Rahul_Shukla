{
  "nbformat": 4,
  "nbformat_minor": 0,
  "metadata": {
    "colab": {
      "name": "Assign_Lab1-2-LinearAlgebraWithNumPy.ipynb",
      "provenance": [],
      "collapsed_sections": []
    },
    "kernelspec": {
      "name": "python3",
      "display_name": "Python 3"
    },
    "language_info": {
      "name": "python"
    }
  },
  "cells": [
    {
      "cell_type": "code",
      "metadata": {
        "id": "RzcMgS3C8-Js"
      },
      "source": [
        "import numpy as np\n",
        "import pandas as pd"
      ],
      "execution_count": null,
      "outputs": []
    },
    {
      "cell_type": "code",
      "metadata": {
        "colab": {
          "base_uri": "https://localhost:8080/"
        },
        "id": "nhynrLHq_I8W",
        "outputId": "e8581a21-d60b-4ba4-c722-c76a8048edc4"
      },
      "source": [
        "#Create Two numpy array of size 3 X 2 and 2 X 3\n",
        "#And randomly initialize them\n",
        "nparr1 = np.random.randint(1,100,size=(3,2))\n",
        "nparr2 = np.random.randint(1,100,size=(2,3))\n",
        "print(nparr1)\n",
        "print(nparr2)"
      ],
      "execution_count": null,
      "outputs": [
        {
          "output_type": "stream",
          "name": "stdout",
          "text": [
            "[[17 82]\n",
            " [69 29]\n",
            " [90 69]]\n",
            "[[28 83 51]\n",
            " [95 87 81]]\n"
          ]
        }
      ]
    },
    {
      "cell_type": "code",
      "metadata": {
        "colab": {
          "base_uri": "https://localhost:8080/"
        },
        "id": "Na0ge6-2BspA",
        "outputId": "7abce0ff-afe3-41fe-fd60-add88de29c7d"
      },
      "source": [
        "#perform matrix multiplication\n",
        "res = np.dot(nparr1,nparr2)\n",
        "print(res)"
      ],
      "execution_count": null,
      "outputs": [
        {
          "output_type": "stream",
          "name": "stdout",
          "text": [
            "[[ 8266  8545  7509]\n",
            " [ 4687  8250  5868]\n",
            " [ 9075 13473 10179]]\n"
          ]
        }
      ]
    },
    {
      "cell_type": "code",
      "metadata": {
        "colab": {
          "base_uri": "https://localhost:8080/"
        },
        "id": "FPPSHSn7DHcH",
        "outputId": "fca3eea1-3791-4d16-ee12-0d8cef5f85e0"
      },
      "source": [
        "#perform elementwise matrix multiplication\n",
        "nparr3 = np.array([[1,2,3],[4,5,6]])\n",
        "nparr4 = np.array([[4,5,6],[1,2,3]])\n",
        "\n",
        "element_wise = nparr3 * nparr4\n",
        "print(element_wise)"
      ],
      "execution_count": null,
      "outputs": [
        {
          "output_type": "stream",
          "name": "stdout",
          "text": [
            "[[ 4 10 18]\n",
            " [ 4 10 18]]\n"
          ]
        }
      ]
    },
    {
      "cell_type": "code",
      "metadata": {
        "colab": {
          "base_uri": "https://localhost:8080/"
        },
        "id": "2zNVJKNcEV9u",
        "outputId": "ef07ed3d-f294-4190-85ad-a1ca67c556a9"
      },
      "source": [
        "#Find mean of first matrix\n",
        "mean = np.mean(nparr1)\n",
        "print(mean)\n"
      ],
      "execution_count": null,
      "outputs": [
        {
          "output_type": "stream",
          "name": "stdout",
          "text": [
            "59.333333333333336\n"
          ]
        }
      ]
    },
    {
      "cell_type": "code",
      "metadata": {
        "colab": {
          "base_uri": "https://localhost:8080/"
        },
        "id": "afrPH16fEhwq",
        "outputId": "6b60c43a-2ba9-4642-c314-6b903909349d"
      },
      "source": [
        "#Convert Numeric entries(columns) of mtcars.csv to their mean centered version\n",
        "main_data = pd.read_csv(\"mtcars.csv\")\n",
        "del main_data['model']\n",
        "\n",
        "# shwing the meancenter\n",
        "mean_center = main_data.apply(lambda e: e - e.mean())\n",
        "print(mean_center)"
      ],
      "execution_count": null,
      "outputs": [
        {
          "output_type": "stream",
          "name": "stdout",
          "text": [
            "          mpg     cyl        disp        hp  ...      vs       am    gear    carb\n",
            "0    0.909375 -0.1875  -70.721875  -36.6875  ... -0.4375  0.59375  0.3125  1.1875\n",
            "1    0.909375 -0.1875  -70.721875  -36.6875  ... -0.4375  0.59375  0.3125  1.1875\n",
            "2    2.709375 -2.1875 -122.721875  -53.6875  ...  0.5625  0.59375  0.3125 -1.8125\n",
            "3    1.309375 -0.1875   27.278125  -36.6875  ...  0.5625 -0.40625 -0.6875 -1.8125\n",
            "4   -1.390625  1.8125  129.278125   28.3125  ... -0.4375 -0.40625 -0.6875 -0.8125\n",
            "5   -1.990625 -0.1875   -5.721875  -41.6875  ...  0.5625 -0.40625 -0.6875 -1.8125\n",
            "6   -5.790625  1.8125  129.278125   98.3125  ... -0.4375 -0.40625 -0.6875  1.1875\n",
            "7    4.309375 -2.1875  -84.021875  -84.6875  ...  0.5625 -0.40625  0.3125 -0.8125\n",
            "8    2.709375 -2.1875  -89.921875  -51.6875  ...  0.5625 -0.40625  0.3125 -0.8125\n",
            "9   -0.890625 -0.1875  -63.121875  -23.6875  ...  0.5625 -0.40625  0.3125  1.1875\n",
            "10  -2.290625 -0.1875  -63.121875  -23.6875  ...  0.5625 -0.40625  0.3125  1.1875\n",
            "11  -3.690625  1.8125   45.078125   33.3125  ... -0.4375 -0.40625 -0.6875  0.1875\n",
            "12  -2.790625  1.8125   45.078125   33.3125  ... -0.4375 -0.40625 -0.6875  0.1875\n",
            "13  -4.890625  1.8125   45.078125   33.3125  ... -0.4375 -0.40625 -0.6875  0.1875\n",
            "14  -9.690625  1.8125  241.278125   58.3125  ... -0.4375 -0.40625 -0.6875  1.1875\n",
            "15  -9.690625  1.8125  229.278125   68.3125  ... -0.4375 -0.40625 -0.6875  1.1875\n",
            "16  -5.390625  1.8125  209.278125   83.3125  ... -0.4375 -0.40625 -0.6875  1.1875\n",
            "17  12.309375 -2.1875 -152.021875  -80.6875  ...  0.5625  0.59375  0.3125 -1.8125\n",
            "18  10.309375 -2.1875 -155.021875  -94.6875  ...  0.5625  0.59375  0.3125 -0.8125\n",
            "19  13.809375 -2.1875 -159.621875  -81.6875  ...  0.5625  0.59375  0.3125 -1.8125\n",
            "20   1.409375 -2.1875 -110.621875  -49.6875  ...  0.5625 -0.40625 -0.6875 -1.8125\n",
            "21  -4.590625  1.8125   87.278125    3.3125  ... -0.4375 -0.40625 -0.6875 -0.8125\n",
            "22  -4.890625  1.8125   73.278125    3.3125  ... -0.4375 -0.40625 -0.6875 -0.8125\n",
            "23  -6.790625  1.8125  119.278125   98.3125  ... -0.4375 -0.40625 -0.6875  1.1875\n",
            "24  -0.890625  1.8125  169.278125   28.3125  ... -0.4375 -0.40625 -0.6875 -0.8125\n",
            "25   7.209375 -2.1875 -151.721875  -80.6875  ...  0.5625  0.59375  0.3125 -1.8125\n",
            "26   5.909375 -2.1875 -110.421875  -55.6875  ... -0.4375  0.59375  1.3125 -0.8125\n",
            "27  10.309375 -2.1875 -135.621875  -33.6875  ...  0.5625  0.59375  1.3125 -0.8125\n",
            "28  -4.290625  1.8125  120.278125  117.3125  ... -0.4375  0.59375  1.3125  1.1875\n",
            "29  -0.390625 -0.1875  -85.721875   28.3125  ... -0.4375  0.59375  1.3125  3.1875\n",
            "30  -5.090625  1.8125   70.278125  188.3125  ... -0.4375  0.59375  1.3125  5.1875\n",
            "31   1.309375 -2.1875 -109.721875  -37.6875  ...  0.5625  0.59375  0.3125 -0.8125\n",
            "\n",
            "[32 rows x 11 columns]\n"
          ]
        }
      ]
    }
  ]
}