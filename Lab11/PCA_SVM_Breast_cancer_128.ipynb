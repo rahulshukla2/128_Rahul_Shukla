{
  "nbformat": 4,
  "nbformat_minor": 0,
  "metadata": {
    "colab": {
      "name": "PCA_SVM_Breast_cancer_128.ipynb",
      "provenance": []
    },
    "kernelspec": {
      "name": "python3",
      "display_name": "Python 3"
    },
    "language_info": {
      "name": "python"
    }
  },
  "cells": [
    {
      "cell_type": "code",
      "metadata": {
        "colab": {
          "base_uri": "https://localhost:8080/"
        },
        "id": "q0q-jmXHWNx1",
        "outputId": "c1b45c93-dbff-424f-aa58-29852318c711"
      },
      "source": [
        "%matplotlib inline\n",
        "import pandas as pd\n",
        "from sklearn import datasets\n",
        "from sklearn.decomposition import PCA\n",
        "from sklearn import svm,decomposition\n",
        "\n",
        "dataset = datasets.load_breast_cancer()\n",
        "dataset.target_names"
      ],
      "execution_count": 1,
      "outputs": [
        {
          "output_type": "execute_result",
          "data": {
            "text/plain": [
              "array(['malignant', 'benign'], dtype='<U9')"
            ]
          },
          "metadata": {},
          "execution_count": 1
        }
      ]
    },
    {
      "cell_type": "code",
      "metadata": {
        "colab": {
          "base_uri": "https://localhost:8080/"
        },
        "id": "73L4QvXKWPdb",
        "outputId": "165a5d4b-5b55-4b57-c810-f00f8e538e8d"
      },
      "source": [
        "from sklearn.model_selection import train_test_split\n",
        "X_train, X_test, y_train, y_test = train_test_split(dataset.data ,dataset.target, random_state=7)\n",
        "\n",
        "print(X_train.shape, X_test.shape)"
      ],
      "execution_count": 2,
      "outputs": [
        {
          "output_type": "stream",
          "name": "stdout",
          "text": [
            "(426, 30) (143, 30)\n"
          ]
        }
      ]
    },
    {
      "cell_type": "code",
      "metadata": {
        "colab": {
          "base_uri": "https://localhost:8080/"
        },
        "id": "YTNFHdW8WR4f",
        "outputId": "e7d8c1e7-6863-412d-cc02-d6f4afe07a68"
      },
      "source": [
        "pca = decomposition.PCA(n_components=20, whiten=True, random_state=7)\n",
        "pca.fit(X_train)"
      ],
      "execution_count": 3,
      "outputs": [
        {
          "output_type": "execute_result",
          "data": {
            "text/plain": [
              "PCA(copy=True, iterated_power='auto', n_components=20, random_state=7,\n",
              "    svd_solver='auto', tol=0.0, whiten=True)"
            ]
          },
          "metadata": {},
          "execution_count": 3
        }
      ]
    },
    {
      "cell_type": "code",
      "metadata": {
        "colab": {
          "base_uri": "https://localhost:8080/"
        },
        "id": "CZ9kSSQBWULm",
        "outputId": "58dd2978-54d0-41eb-a189-b0cde745766a"
      },
      "source": [
        "X_train_pca = pca.transform(X_train)\n",
        "X_test_pca = pca.transform(X_test)\n",
        "print(X_train_pca.shape)\n",
        "\n",
        "clf = svm.SVC(C=2., gamma=0.001, random_state=7)\n",
        "clf.fit(X_train_pca, y_train)"
      ],
      "execution_count": 4,
      "outputs": [
        {
          "output_type": "stream",
          "name": "stdout",
          "text": [
            "(426, 20)\n"
          ]
        },
        {
          "output_type": "execute_result",
          "data": {
            "text/plain": [
              "SVC(C=2.0, break_ties=False, cache_size=200, class_weight=None, coef0=0.0,\n",
              "    decision_function_shape='ovr', degree=3, gamma=0.001, kernel='rbf',\n",
              "    max_iter=-1, probability=False, random_state=7, shrinking=True, tol=0.001,\n",
              "    verbose=False)"
            ]
          },
          "metadata": {},
          "execution_count": 4
        }
      ]
    },
    {
      "cell_type": "code",
      "metadata": {
        "colab": {
          "base_uri": "https://localhost:8080/"
        },
        "id": "hiPNjdQ7WWfP",
        "outputId": "bc24d2ef-5d7e-45fa-f7ba-102e49b010a5"
      },
      "source": [
        "from sklearn import metrics\n",
        "y_pred = clf.predict(X_test_pca)\n",
        "\n",
        "print(metrics.classification_report(y_test, y_pred))"
      ],
      "execution_count": 5,
      "outputs": [
        {
          "output_type": "stream",
          "name": "stdout",
          "text": [
            "              precision    recall  f1-score   support\n",
            "\n",
            "           0       1.00      0.73      0.85        45\n",
            "           1       0.89      1.00      0.94        98\n",
            "\n",
            "    accuracy                           0.92       143\n",
            "   macro avg       0.95      0.87      0.89       143\n",
            "weighted avg       0.93      0.92      0.91       143\n",
            "\n"
          ]
        }
      ]
    },
    {
      "cell_type": "code",
      "metadata": {
        "colab": {
          "base_uri": "https://localhost:8080/"
        },
        "id": "cAYBRqqfWfRm",
        "outputId": "8a4fd535-21a8-49cf-ab5d-957fcd3113e0"
      },
      "source": [
        "from sklearn.pipeline import Pipeline\n",
        "clf = Pipeline([('pca', decomposition.PCA(n_components=2, whiten=True)), ('svm', svm.LinearSVC(C=2.0))])\n",
        "\n",
        "clf.fit(X_train, y_train)\n",
        "\n",
        "y_pred = clf.predict(X_test)\n",
        "print(metrics.confusion_matrix(y_pred, y_test))"
      ],
      "execution_count": 6,
      "outputs": [
        {
          "output_type": "stream",
          "name": "stdout",
          "text": [
            "[[36  1]\n",
            " [ 9 97]]\n"
          ]
        }
      ]
    }
  ]
}