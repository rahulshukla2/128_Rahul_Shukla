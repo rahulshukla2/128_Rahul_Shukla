{
  "nbformat": 4,
  "nbformat_minor": 0,
  "metadata": {
    "colab": {
      "name": "Task_2.ipynb",
      "provenance": [],
      "collapsed_sections": []
    },
    "kernelspec": {
      "name": "python3",
      "display_name": "Python 3"
    },
    "language_info": {
      "name": "python"
    }
  },
  "cells": [
    {
      "cell_type": "code",
      "metadata": {
        "id": "UrL7Q9RJbpsB"
      },
      "source": [
        "# Step 1: Import necessary libraries\n",
        "from sklearn import preprocessing,tree,metrics,datasets\n",
        "from sklearn.tree import DecisionTreeClassifier\n",
        "import pandas as pd\n",
        "from sklearn.model_selection import train_test_split"
      ],
      "execution_count": 1,
      "outputs": []
    },
    {
      "cell_type": "code",
      "metadata": {
        "id": "U94-j8rOcCQd"
      },
      "source": [
        "dataset = datasets.load_wine()\n",
        "# print(dataset)"
      ],
      "execution_count": 2,
      "outputs": []
    },
    {
      "cell_type": "code",
      "metadata": {
        "colab": {
          "base_uri": "https://localhost:8080/"
        },
        "id": "Y0MUBnkFcRDL",
        "outputId": "e7a5d2b3-f4aa-42ab-c29f-5829cbf391b0"
      },
      "source": [
        "\n",
        "train_data,test_data,train_label,test_label = train_test_split(dataset.data,dataset.target,random_state=128,test_size=0.34)\n",
        "print(\"[Features,Label]\\nLength of Train Set:\",len(train_data),len(train_label))\n",
        "print(\"\\nLength of Test Set:\",len(test_data),len(test_label))"
      ],
      "execution_count": 3,
      "outputs": [
        {
          "output_type": "stream",
          "name": "stdout",
          "text": [
            "[Features,Label]\n",
            "Length of Train Set: 117 117\n",
            "\n",
            "Length of Test Set: 61 61\n"
          ]
        }
      ]
    },
    {
      "cell_type": "code",
      "metadata": {
        "colab": {
          "base_uri": "https://localhost:8080/"
        },
        "id": "FSk_k9b4c8PZ",
        "outputId": "f5343ec3-ca92-4370-cd5c-c3568e028b14"
      },
      "source": [
        "entropy=DecisionTreeClassifier(criterion='entropy',max_leaf_nodes=128)\n",
        "entropy.fit(train_data,train_label)"
      ],
      "execution_count": 4,
      "outputs": [
        {
          "output_type": "execute_result",
          "data": {
            "text/plain": [
              "DecisionTreeClassifier(ccp_alpha=0.0, class_weight=None, criterion='entropy',\n",
              "                       max_depth=None, max_features=None, max_leaf_nodes=128,\n",
              "                       min_impurity_decrease=0.0, min_impurity_split=None,\n",
              "                       min_samples_leaf=1, min_samples_split=2,\n",
              "                       min_weight_fraction_leaf=0.0, presort='deprecated',\n",
              "                       random_state=None, splitter='best')"
            ]
          },
          "metadata": {},
          "execution_count": 4
        }
      ]
    },
    {
      "cell_type": "code",
      "metadata": {
        "colab": {
          "base_uri": "https://localhost:8080/"
        },
        "id": "mhD1Ptx3c_Hz",
        "outputId": "2d763ae2-ef25-426d-ceaa-1a1ecf3fa3ae"
      },
      "source": [
        "pred=entropy.predict(test_data)\n",
        "print(pred)"
      ],
      "execution_count": 5,
      "outputs": [
        {
          "output_type": "stream",
          "name": "stdout",
          "text": [
            "[1 1 0 1 0 1 2 1 1 0 1 0 2 0 2 0 0 0 1 0 2 0 1 0 1 0 0 2 1 1 1 1 0 0 0 1 1\n",
            " 1 0 1 1 1 0 2 1 0 1 2 1 1 1 2 2 1 0 1 0 1 1 2 1]\n"
          ]
        }
      ]
    },
    {
      "cell_type": "code",
      "metadata": {
        "colab": {
          "base_uri": "https://localhost:8080/",
          "height": 433
        },
        "id": "PpYiv-OQdFrS",
        "outputId": "ff869f48-9314-43e5-c5ba-99e0209e7427"
      },
      "source": [
        "tree.plot_tree(entropy,filled=True)"
      ],
      "execution_count": 6,
      "outputs": [
        {
          "output_type": "execute_result",
          "data": {
            "text/plain": [
              "[Text(148.8, 190.26, 'X[6] <= 1.575\\nentropy = 1.58\\nsamples = 117\\nvalue = [39, 43, 35]'),\n",
              " Text(74.4, 135.9, 'X[3] <= 17.5\\nentropy = 0.544\\nsamples = 40\\nvalue = [0, 5, 35]'),\n",
              " Text(37.2, 81.53999999999999, 'entropy = 0.0\\nsamples = 4\\nvalue = [0, 4, 0]'),\n",
              " Text(111.60000000000001, 81.53999999999999, 'X[10] <= 0.898\\nentropy = 0.183\\nsamples = 36\\nvalue = [0, 1, 35]'),\n",
              " Text(74.4, 27.180000000000007, 'entropy = 0.0\\nsamples = 35\\nvalue = [0, 0, 35]'),\n",
              " Text(148.8, 27.180000000000007, 'entropy = 0.0\\nsamples = 1\\nvalue = [0, 1, 0]'),\n",
              " Text(223.20000000000002, 135.9, 'X[12] <= 724.5\\nentropy = 1.0\\nsamples = 77\\nvalue = [39, 38, 0]'),\n",
              " Text(186.0, 81.53999999999999, 'entropy = 0.0\\nsamples = 36\\nvalue = [0, 36, 0]'),\n",
              " Text(260.40000000000003, 81.53999999999999, 'X[1] <= 1.22\\nentropy = 0.281\\nsamples = 41\\nvalue = [39, 2, 0]'),\n",
              " Text(223.20000000000002, 27.180000000000007, 'entropy = 0.0\\nsamples = 2\\nvalue = [0, 2, 0]'),\n",
              " Text(297.6, 27.180000000000007, 'entropy = 0.0\\nsamples = 39\\nvalue = [39, 0, 0]')]"
            ]
          },
          "metadata": {},
          "execution_count": 6
        },
        {
          "output_type": "display_data",
          "data": {
            "image/png": "[encoded data removed]",
            "text/plain": [
              "<Figure size 432x288 with 1 Axes>"
            ]
          },
          "metadata": {
            "needs_background": "light"
          }
        }
      ]
    },
    {
      "cell_type": "code",
      "metadata": {
        "colab": {
          "base_uri": "https://localhost:8080/"
        },
        "id": "-1GI3gpjdJZw",
        "outputId": "33242523-4a1b-438d-8f9e-2425021fa496"
      },
      "source": [
        "print(\"Accuracy:\",metrics.accuracy_score(test_label,pred))\n",
        "print(\"\\nPrecision:\",metrics.precision_score(test_label,pred,average='micro'))\n",
        "print(\"\\nRecall:\",metrics.recall_score(test_label,pred,average='micro'))"
      ],
      "execution_count": 7,
      "outputs": [
        {
          "output_type": "stream",
          "name": "stdout",
          "text": [
            "Accuracy: 0.9016393442622951\n",
            "\n",
            "Precision: 0.9016393442622951\n",
            "\n",
            "Recall: 0.9016393442622951\n"
          ]
        }
      ]
    }
  ]
}